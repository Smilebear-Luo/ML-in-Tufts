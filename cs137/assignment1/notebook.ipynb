{
  "cells": [
    {
      "cell_type": "markdown",
      "metadata": {
        "id": "w6ysrx5NemjE"
      },
      "source": [
        "# Learn Pytorch via a linear regression model\n",
        "In this excercise, you will learn tensorflow in steps. \n",
        "\n",
        "NOTE: There are seven questions, which include fixing code issues (marked by TODO), implementing functions (please see `implementation.py`), and answering questions. Please read instructions carefully.\n",
        "\n",
        "\n"
      ]
    },
    {
      "cell_type": "code",
      "execution_count": null,
      "metadata": {
        "colab": {
          "base_uri": "https://localhost:8080/"
        },
        "id": "WY2CtkNclSrf",
        "outputId": "108cd899-127b-43db-d4f2-c1bbf560f229"
      },
      "outputs": [
        {
          "output_type": "stream",
          "name": "stdout",
          "text": [
            "Drive already mounted at /content/drive; to attempt to forcibly remount, call drive.mount(\"/content/drive\", force_remount=True).\n"
          ]
        }
      ],
      "source": [
        "# If use google colab, mount the working directory there. \n",
        "from google.colab import drive\n",
        "drive.mount('/content/drive')\n",
        "\n",
        "# NOTE: you need to use your own path to add the implementation to the python path \n",
        "# so you can import functions from implementation.py\n",
        "sys.path.append('/content/drive/MyDrive/cs137assignments/assignment1')"
      ]
    },
    {
      "cell_type": "code",
      "execution_count": null,
      "metadata": {
        "id": "Vrnf13XPemjG"
      },
      "outputs": [],
      "source": [
        "# A bit of setup\n",
        "import numpy as np\n",
        "import torch\n",
        "import matplotlib.pyplot as plt\n",
        "import sys\n",
        "\n",
        "%matplotlib inline\n",
        "plt.rcParams['figure.figsize'] = (10.0, 8.0) # set default size of plots\n",
        "plt.rcParams['image.interpolation'] = 'nearest'\n",
        "plt.rcParams['image.cmap'] = 'gray'\n",
        "\n",
        "# for auto-reloading external modules\n",
        "# see http://stackoverflow.com/questions/1907993/autoreload-of-modules-in-ipython\n",
        "%load_ext autoreload\n",
        "%autoreload 2\n"
      ]
    },
    {
      "cell_type": "markdown",
      "metadata": {
        "id": "v7Bxbb3hemjK"
      },
      "source": [
        "## Get to know `torch` through a few simple examples\n",
        "\n",
        "### <span style=\"color:red\">Question 1 (4 points):</span>\n",
        "You need to run all cells below and make necessary changes to avoid errors. "
      ]
    },
    {
      "cell_type": "markdown",
      "metadata": {
        "id": "BeM5aiNAemjL"
      },
      "source": [
        "### Pytorch basics\n",
        "Pytorch use tensors to store scalars, vectors, matrices, and tensors. Here is the introduction webpage of pytorch: https://pytorch.org/tutorials/ . The few cells below show you a few simple operations on pytorch arrays. "
      ]
    },
    {
      "cell_type": "code",
      "execution_count": null,
      "metadata": {
        "colab": {
          "base_uri": "https://localhost:8080/"
        },
        "id": "BwFJvGUhemjL",
        "outputId": "c36b7958-b840-46da-8ad0-1e2737e0b9b8"
      },
      "outputs": [
        {
          "output_type": "stream",
          "name": "stdout",
          "text": [
            "a has shape:  torch.Size([3])\n",
            "a + b is:  tensor([2., 3., 4.])\n"
          ]
        }
      ],
      "source": [
        "# Get the shape of a tensor: \n",
        "\n",
        "a = torch.tensor([1, 2, 3], dtype=torch.float32)\n",
        "\n",
        "print('a has shape: ', a.size())\n",
        "\n",
        "\n",
        "# If `b = [1, 1, 1]` has the same shape as a, then a + b should work, \n",
        "# TODO: the line below has an error, please fix it. \n",
        "\n",
        "b = torch.tensor([1, 1, 1])\n",
        "print(\"a + b is: \", a + b)\n"
      ]
    },
    {
      "cell_type": "code",
      "execution_count": null,
      "metadata": {
        "colab": {
          "base_uri": "https://localhost:8080/"
        },
        "id": "vHjVQag4Y934",
        "outputId": "265ef7fa-cc5c-4059-c07c-16a1e79b5663"
      },
      "outputs": [
        {
          "output_type": "stream",
          "name": "stdout",
          "text": [
            "Adding a to rows of c gives:\n",
            "tensor([[ 2.,  3.,  4.],\n",
            "        [ 6.,  7.,  8.],\n",
            "        [10., 11., 12.]])\n",
            "Adding a to columns of c gives:\n",
            "tensor([[ 2.,  3.,  4.],\n",
            "        [ 6.,  7.,  8.],\n",
            "        [10., 11., 12.]])\n"
          ]
        }
      ],
      "source": [
        "# broadcasting: adding `a` to each row of `c`\n",
        "# `a` and `c` has different shapes, but `a`'s shape matches the last \n",
        "# dimension of `c`, so we can still add them together -- it is equivalent to \n",
        "# repeat `a` along the first dimension and then add it to `c`. \n",
        "\n",
        "\n",
        "a = torch.tensor([1, 2, 3], dtype=torch.float32).reshape((3,1))\n",
        "c = torch.tensor([[1, 2, 3], [4, 5, 6], [7, 8, 9]], dtype=torch.float32)\n",
        "\n",
        "print(\"Adding a to rows of c gives:\")\n",
        "print(torch.add(a,c))\n",
        "\n",
        "# TODO: broadcasting: adding `a` to each COLUMN of `c` so that `a+c` is the tensor in \n",
        "# `result`\n",
        "\n",
        "result = torch.tensor([[ 2.,  3.,  4.], [ 6.,  7.,  8.], [10., 11., 12.]])\n",
        "diff = torch.sum(torch.abs(a + c - result))\n",
        "\n",
        "if diff > 1e-6:\n",
        "    raise Exception(\"The calculation is wrong. The correct result should be \\n\" + str(result))\n",
        "\n",
        "print(\"Adding a to columns of c gives:\")\n",
        "print(a + c)\n"
      ]
    },
    {
      "cell_type": "code",
      "execution_count": null,
      "metadata": {
        "colab": {
          "base_uri": "https://localhost:8080/"
        },
        "id": "ynWpAtQ-emjM",
        "outputId": "55138851-aabe-4e10-9f76-984f5df716f6"
      },
      "outputs": [
        {
          "output_type": "stream",
          "name": "stdout",
          "text": [
            "Sum up c along rows: tensor([ 6., 15., 24.])\n",
            "Sum up b along columns should be  tensor([12., 15., 18.])\n",
            "The calculation is correct\n"
          ]
        }
      ],
      "source": [
        "# take the sum along a dimension \n",
        "\n",
        "c = torch.tensor([[1, 2, 3], [4, 5, 6], [7, 8, 9]], dtype=torch.float32)\n",
        "\n",
        "print('Sum up c along rows:', torch.sum(c, axis=1)) # the `axis` specifies the dimension to be ``reduced''\n",
        "\n",
        "# TODO: sum up c along columns\n",
        "c_col_sum = torch.sum(c,axis=0)\n",
        "\n",
        "result = torch.tensor([12, 15, 18], dtype=torch.float32)\n",
        "print('Sum up b along columns should be ', result) # the `axis` specifies the dimension to be ``reduced''\n",
        "\n",
        "diff = torch.sum(torch.abs(c_col_sum - result))\n",
        "if diff > 1e-6:\n",
        "    raise Exception(\"The calculation is wrong\")\n",
        "\n",
        "print(\"The calculation is correct\")\n",
        "\n",
        "\n",
        "# similar functions are torch.max, torch.logsumexp\n"
      ]
    },
    {
      "cell_type": "code",
      "execution_count": null,
      "metadata": {
        "colab": {
          "base_uri": "https://localhost:8080/"
        },
        "id": "Je8vtNfoemjN",
        "outputId": "6cdf7ff2-5dd2-43ec-8ccf-3bda3706b4d8"
      },
      "outputs": [
        {
          "output_type": "stream",
          "name": "stdout",
          "text": [
            "b has shape:  torch.Size([6, 1])\n",
            "c has shape:  torch.Size([1, 3])\n",
            "tensor([[2, 2, 2],\n",
            "        [2, 2, 2],\n",
            "        [2, 2, 2],\n",
            "        [2, 2, 2],\n",
            "        [2, 2, 2],\n",
            "        [2, 2, 2]])\n"
          ]
        }
      ],
      "source": [
        "# matrix multiplication \n",
        "\n",
        "\n",
        "\n",
        "# Use this line, otherwise it doesn't work.\n",
        "b = torch.tensor([[1, 1, 1], [1, 1, 1]]).reshape((6,1))\n",
        "print('b has shape: ', b.size())\n",
        "\n",
        "# \n",
        "# TODO: multiply the matrix `b` to the vector `c`. The line below does not work\n",
        "# for the matrix calculation below. The shape is incorrect, and the data type \n",
        "# does not match b either. Can you fix it? \n",
        "c = torch.tensor([[2, 2, 2]]) \n",
        "\n",
        "print('c has shape: ', c.size())\n",
        "\n",
        "print(torch.matmul(b, c))\n"
      ]
    },
    {
      "cell_type": "markdown",
      "metadata": {
        "id": "VGCEpLPKemjN"
      },
      "source": [
        "\n",
        "## Learning `torch` through a regression task\n",
        "\n",
        "### Implement  functions for a linear regression model \n",
        "\n",
        "### <span style=\"color:red\">Question 2 (3 points):</span>\n",
        "Please implement a linear regression model in `implementation.regression_func`. The empty function has detailed instructions. The following code helps you check correctness. "
      ]
    },
    {
      "cell_type": "code",
      "execution_count": null,
      "metadata": {
        "colab": {
          "base_uri": "https://localhost:8080/",
          "height": 771
        },
        "id": "UMbRLE6_emjO",
        "outputId": "de23ef5b-ec7d-4d38-e541-f2656f48546e"
      },
      "outputs": [
        {
          "output_type": "stream",
          "name": "stderr",
          "text": [
            "/content/drive/MyDrive/cs137assignments/assignment1/implementation.py:28: UserWarning: To copy construct from a tensor, it is recommended to use sourceTensor.clone().detach() or sourceTensor.clone().detach().requires_grad_(True), rather than torch.tensor(sourceTensor).\n",
            "  return torch.tensor(x, dtype = torch.float32), torch.tensor(y, dtype = torch.float32)\n"
          ]
        },
        {
          "output_type": "stream",
          "name": "stdout",
          "text": [
            "loss beocmes  2.1993744  after  1  iterations.\n",
            "loss beocmes  0.12779471  after  101  iterations.\n",
            "loss beocmes  0.093688525  after  201  iterations.\n",
            "loss beocmes  0.091567785  after  301  iterations.\n",
            "loss beocmes  0.09143593  after  401  iterations.\n",
            "loss beocmes  0.091427706  after  501  iterations.\n",
            "loss beocmes  0.091427185  after  601  iterations.\n",
            "loss beocmes  0.09142717  after  701  iterations.\n",
            "loss beocmes  0.091427155  after  801  iterations.\n",
            "loss beocmes  0.091427185  after  901  iterations.\n",
            "loss becomes  0.091427185  after  1000  iterations.\n",
            "(w, b) =  (tensor([[0.3022]], requires_grad=True), tensor([1.0482], requires_grad=True))\n"
          ]
        },
        {
          "output_type": "display_data",
          "data": {
            "text/plain": [
              "<Figure size 720x576 with 1 Axes>"
            ],
            "image/png": "[encoded data removed]"
          },
          "metadata": {
            "needs_background": "light"
          }
        },
        {
          "output_type": "stream",
          "name": "stdout",
          "text": [
            "[3.2 7.2]\n"
          ]
        }
      ],
      "source": [
        "\n",
        "from implementation import regression_func\n",
        "\n",
        "x = torch.tensor([[1, 2], [3, 4]], dtype=torch.float32)\n",
        "w = torch.tensor([1, 1], dtype=torch.float32, requires_grad = True)\n",
        "b = torch.tensor(0.2, dtype=torch.float32, requires_grad = True)\n",
        "\n",
        "y_hat = regression_func(x, w, b)\n",
        "\n",
        "# y_hat should be [3.2, 7.2]\n",
        "print(y_hat.detach().numpy())\n",
        "\n",
        "diff = torch.sum(torch.abs(y_hat - torch.tensor([3.2, 7.2])))\n",
        "if diff > 1e-6:\n",
        "    raise Exception(\"The calculation is incorrect.\")\n",
        "\n"
      ]
    },
    {
      "cell_type": "markdown",
      "metadata": {
        "id": "xRP0GCMremjO"
      },
      "source": [
        "### <span style=\"color:red\">Question 3 (3 points):</span>\n",
        "\n",
        "Please implement a loss function in  `implementation.loss_func`. The empty function has detailed instructions. The following code helps you check correctness."
      ]
    },
    {
      "cell_type": "code",
      "execution_count": null,
      "metadata": {
        "colab": {
          "base_uri": "https://localhost:8080/"
        },
        "id": "rWNF-gNtemjO",
        "outputId": "0ae74904-210f-4d21-98d9-851e03fd2e61",
        "scrolled": true
      },
      "outputs": [
        {
          "output_type": "stream",
          "name": "stdout",
          "text": [
            "tensor(0.0800, grad_fn=<DotBackward0>)\n"
          ]
        }
      ],
      "source": [
        "from implementation import loss_func\n",
        "\n",
        "# TODO: you need to fix an issue in this line, otherwise it does not work with the loss function\n",
        "y = torch.tensor([3, 7],dtype = torch.float32)\n",
        "\n",
        "loss = loss_func(y, y_hat)\n",
        "\n",
        "# the loss should be 0.08\n",
        "print(loss)\n",
        "\n",
        "diff = torch.sum(torch.abs(loss - 0.08))\n",
        "if diff > 1e-6:\n",
        "    raise Exception(\"The calculation is incorrect.\")\n",
        "\n",
        "\n"
      ]
    },
    {
      "cell_type": "markdown",
      "metadata": {
        "id": "RYsz55h_Y936"
      },
      "source": [
        "### <span style=\"color:red\">Question 4 (2 points):</span>\n",
        "\n",
        "The following code block shows a simple computation graph of the calculation of `var4`. Which of the three variables (`var1`, `var2`, `var3`) are not shown in this computation graph? Please give the reason.  \n",
        "\n",
        "Answer: var3,because the required_grad of var3 is False.\n"
      ]
    },
    {
      "cell_type": "code",
      "source": [
        "!pip install torchviz"
      ],
      "metadata": {
        "colab": {
          "base_uri": "https://localhost:8080/"
        },
        "id": "KJ9dWq9dlzXj",
        "outputId": "c0b83400-1e6c-43d7-a051-0ec1148343f4"
      },
      "execution_count": null,
      "outputs": [
        {
          "output_type": "stream",
          "name": "stdout",
          "text": [
            "Looking in indexes: https://pypi.org/simple, https://us-python.pkg.dev/colab-wheels/public/simple/\n",
            "Collecting torchviz\n",
            "  Downloading torchviz-0.0.2.tar.gz (4.9 kB)\n",
            "Requirement already satisfied: torch in /usr/local/lib/python3.7/dist-packages (from torchviz) (1.12.1+cu113)\n",
            "Requirement already satisfied: graphviz in /usr/local/lib/python3.7/dist-packages (from torchviz) (0.10.1)\n",
            "Requirement already satisfied: typing-extensions in /usr/local/lib/python3.7/dist-packages (from torch->torchviz) (4.1.1)\n",
            "Building wheels for collected packages: torchviz\n",
            "  Building wheel for torchviz (setup.py) ... \u001b[?25l\u001b[?25hdone\n",
            "  Created wheel for torchviz: filename=torchviz-0.0.2-py3-none-any.whl size=4150 sha256=55b1f7742069e76df1d245fddacb33d67e416d0b26a985245187f0cbb58cc52f\n",
            "  Stored in directory: /root/.cache/pip/wheels/04/38/f5/dc4f85c3909051823df49901e72015d2d750bd26b086480ec2\n",
            "Successfully built torchviz\n",
            "Installing collected packages: torchviz\n",
            "Successfully installed torchviz-0.0.2\n"
          ]
        }
      ]
    },
    {
      "cell_type": "code",
      "execution_count": null,
      "metadata": {
        "colab": {
          "base_uri": "https://localhost:8080/",
          "height": 382
        },
        "id": "CgJyPTdNY936",
        "outputId": "835ec9b1-6848-484f-d573-92f52b91fe3c"
      },
      "outputs": [
        {
          "output_type": "execute_result",
          "data": {
            "text/plain": [
              "<graphviz.dot.Digraph at 0x7f58b91354d0>"
            ],
            "image/svg+xml": "<?xml version=\"1.0\" encoding=\"UTF-8\" standalone=\"no\"?>\n<!DOCTYPE svg PUBLIC \"-//W3C//DTD SVG 1.1//EN\"\n \"http://www.w3.org/Graphics/SVG/1.1/DTD/svg11.dtd\">\n<!-- Generated by graphviz version 2.40.1 (20161225.0304)\n -->\n<!-- Title: %3 Pages: 1 -->\n<svg width=\"109pt\" height=\"271pt\"\n viewBox=\"0.00 0.00 109.00 271.00\" xmlns=\"http://www.w3.org/2000/svg\" xmlns:xlink=\"http://www.w3.org/1999/xlink\">\n<g id=\"graph0\" class=\"graph\" transform=\"scale(1 1) rotate(0) translate(4 267)\">\n<title>%3</title>\n<polygon fill=\"#ffffff\" stroke=\"transparent\" points=\"-4,4 -4,-267 105,-267 105,4 -4,4\"/>\n<!-- 140019039702864 -->\n<g id=\"node1\" class=\"node\">\n<title>140019039702864</title>\n<polygon fill=\"#caff70\" stroke=\"#000000\" points=\"77.5,-31 23.5,-31 23.5,0 77.5,0 77.5,-31\"/>\n<text text-anchor=\"middle\" x=\"50.5\" y=\"-7\" font-family=\"monospace\" font-size=\"10.00\" fill=\"#000000\"> ()</text>\n</g>\n<!-- 140019039278800 -->\n<g id=\"node2\" class=\"node\">\n<title>140019039278800</title>\n<polygon fill=\"#d3d3d3\" stroke=\"#000000\" points=\"95,-86 6,-86 6,-67 95,-67 95,-86\"/>\n<text text-anchor=\"middle\" x=\"50.5\" y=\"-74\" font-family=\"monospace\" font-size=\"10.00\" fill=\"#000000\">AddBackward0</text>\n</g>\n<!-- 140019039278800&#45;&gt;140019039702864 -->\n<g id=\"edge4\" class=\"edge\">\n<title>140019039278800&#45;&gt;140019039702864</title>\n<path fill=\"none\" stroke=\"#000000\" d=\"M50.5,-66.9688C50.5,-60.1289 50.5,-50.5621 50.5,-41.5298\"/>\n<polygon fill=\"#000000\" stroke=\"#000000\" points=\"54.0001,-41.3678 50.5,-31.3678 47.0001,-41.3678 54.0001,-41.3678\"/>\n</g>\n<!-- 140019039279248 -->\n<g id=\"node3\" class=\"node\">\n<title>140019039279248</title>\n<polygon fill=\"#d3d3d3\" stroke=\"#000000\" points=\"95,-141 6,-141 6,-122 95,-122 95,-141\"/>\n<text text-anchor=\"middle\" x=\"50.5\" y=\"-129\" font-family=\"monospace\" font-size=\"10.00\" fill=\"#000000\">AddBackward0</text>\n</g>\n<!-- 140019039279248&#45;&gt;140019039278800 -->\n<g id=\"edge1\" class=\"edge\">\n<title>140019039279248&#45;&gt;140019039278800</title>\n<path fill=\"none\" stroke=\"#000000\" d=\"M50.5,-121.9197C50.5,-114.9083 50.5,-105.1442 50.5,-96.4652\"/>\n<polygon fill=\"#000000\" stroke=\"#000000\" points=\"54.0001,-96.3408 50.5,-86.3408 47.0001,-96.3409 54.0001,-96.3408\"/>\n</g>\n<!-- 140019039277328 -->\n<g id=\"node4\" class=\"node\">\n<title>140019039277328</title>\n<polygon fill=\"#d3d3d3\" stroke=\"#000000\" points=\"101,-196 0,-196 0,-177 101,-177 101,-196\"/>\n<text text-anchor=\"middle\" x=\"50.5\" y=\"-184\" font-family=\"monospace\" font-size=\"10.00\" fill=\"#000000\">AccumulateGrad</text>\n</g>\n<!-- 140019039277328&#45;&gt;140019039279248 -->\n<g id=\"edge2\" class=\"edge\">\n<title>140019039277328&#45;&gt;140019039279248</title>\n<path fill=\"none\" stroke=\"#000000\" d=\"M50.5,-176.9197C50.5,-169.9083 50.5,-160.1442 50.5,-151.4652\"/>\n<polygon fill=\"#000000\" stroke=\"#000000\" points=\"54.0001,-151.3408 50.5,-141.3408 47.0001,-151.3409 54.0001,-151.3408\"/>\n</g>\n<!-- 140019033796048 -->\n<g id=\"node5\" class=\"node\">\n<title>140019033796048</title>\n<polygon fill=\"#add8e6\" stroke=\"#000000\" points=\"77.5,-263 23.5,-263 23.5,-232 77.5,-232 77.5,-263\"/>\n<text text-anchor=\"middle\" x=\"50.5\" y=\"-239\" font-family=\"monospace\" font-size=\"10.00\" fill=\"#000000\"> ()</text>\n</g>\n<!-- 140019033796048&#45;&gt;140019039277328 -->\n<g id=\"edge3\" class=\"edge\">\n<title>140019033796048&#45;&gt;140019039277328</title>\n<path fill=\"none\" stroke=\"#000000\" d=\"M50.5,-231.791C50.5,-224.0249 50.5,-214.5706 50.5,-206.3129\"/>\n<polygon fill=\"#000000\" stroke=\"#000000\" points=\"54.0001,-206.0647 50.5,-196.0648 47.0001,-206.0648 54.0001,-206.0647\"/>\n</g>\n</g>\n</svg>\n"
          },
          "metadata": {},
          "execution_count": 11
        }
      ],
      "source": [
        "# Check the computation graph. \n",
        "# NOTE: when you have multiple runs, remember to choose the correct run to display the graph\n",
        "# %tensorboard --logdir runs\n",
        "\n",
        "import torchviz\n",
        "\n",
        "\n",
        "var1 = torch.tensor(1.0, requires_grad = True)\n",
        "var2 = 5\n",
        "var3 = torch.tensor(3.0, requires_grad = False)\n",
        "\n",
        "var4 = var1 + var2 + var3\n",
        "\n",
        "\n",
        "torchviz.make_dot(var4)"
      ]
    },
    {
      "cell_type": "markdown",
      "metadata": {
        "id": "3kpzkx-dY937"
      },
      "source": [
        "### <span style=\"color:red\">Question 5 (2 points):</span>\n",
        "Please show the computation graph of your loss calculation. The following code is a simple example of showing computation graph. Can you show the computation graph of `loss` from your model?\n",
        "\n",
        "NOTE: this is another chance for you to check the correctness of your implementation. If your implementation is wrong, you will also lose points from this question. "
      ]
    },
    {
      "cell_type": "code",
      "execution_count": null,
      "metadata": {
        "colab": {
          "base_uri": "https://localhost:8080/",
          "height": 618
        },
        "id": "834O3sH2Y937",
        "outputId": "a6afe291-ecf8-43dc-fece-2c3c192179b6"
      },
      "outputs": [
        {
          "output_type": "execute_result",
          "data": {
            "text/plain": [
              "<graphviz.dot.Digraph at 0x7f593e4242d0>"
            ],
            "image/svg+xml": "<?xml version=\"1.0\" encoding=\"UTF-8\" standalone=\"no\"?>\n<!DOCTYPE svg PUBLIC \"-//W3C//DTD SVG 1.1//EN\"\n \"http://www.w3.org/Graphics/SVG/1.1/DTD/svg11.dtd\">\n<!-- Generated by graphviz version 2.40.1 (20161225.0304)\n -->\n<!-- Title: %3 Pages: 1 -->\n<svg width=\"219pt\" height=\"448pt\"\n viewBox=\"0.00 0.00 219.00 448.00\" xmlns=\"http://www.w3.org/2000/svg\" xmlns:xlink=\"http://www.w3.org/1999/xlink\">\n<g id=\"graph0\" class=\"graph\" transform=\"scale(1 1) rotate(0) translate(4 444)\">\n<title>%3</title>\n<polygon fill=\"#ffffff\" stroke=\"transparent\" points=\"-4,4 -4,-444 215,-444 215,4 -4,4\"/>\n<!-- 140019033701168 -->\n<g id=\"node1\" class=\"node\">\n<title>140019033701168</title>\n<polygon fill=\"#caff70\" stroke=\"#000000\" points=\"132.5,-31 78.5,-31 78.5,0 132.5,0 132.5,-31\"/>\n<text text-anchor=\"middle\" x=\"105.5\" y=\"-7\" font-family=\"monospace\" font-size=\"10.00\" fill=\"#000000\"> ()</text>\n</g>\n<!-- 140019039280208 -->\n<g id=\"node2\" class=\"node\">\n<title>140019039280208</title>\n<polygon fill=\"#d3d3d3\" stroke=\"#000000\" points=\"150,-86 61,-86 61,-67 150,-67 150,-86\"/>\n<text text-anchor=\"middle\" x=\"105.5\" y=\"-74\" font-family=\"monospace\" font-size=\"10.00\" fill=\"#000000\">DotBackward0</text>\n</g>\n<!-- 140019039280208&#45;&gt;140019033701168 -->\n<g id=\"edge11\" class=\"edge\">\n<title>140019039280208&#45;&gt;140019033701168</title>\n<path fill=\"none\" stroke=\"#000000\" d=\"M105.5,-66.9688C105.5,-60.1289 105.5,-50.5621 105.5,-41.5298\"/>\n<polygon fill=\"#000000\" stroke=\"#000000\" points=\"109.0001,-41.3678 105.5,-31.3678 102.0001,-41.3678 109.0001,-41.3678\"/>\n</g>\n<!-- 140019039281104 -->\n<g id=\"node3\" class=\"node\">\n<title>140019039281104</title>\n<polygon fill=\"#d3d3d3\" stroke=\"#000000\" points=\"97,-141 8,-141 8,-122 97,-122 97,-141\"/>\n<text text-anchor=\"middle\" x=\"52.5\" y=\"-129\" font-family=\"monospace\" font-size=\"10.00\" fill=\"#000000\">SubBackward0</text>\n</g>\n<!-- 140019039281104&#45;&gt;140019039280208 -->\n<g id=\"edge1\" class=\"edge\">\n<title>140019039281104&#45;&gt;140019039280208</title>\n<path fill=\"none\" stroke=\"#000000\" d=\"M61.7319,-121.9197C69.2391,-114.1293 80.021,-102.9405 89.0049,-93.6176\"/>\n<polygon fill=\"#000000\" stroke=\"#000000\" points=\"91.5983,-95.9703 96.017,-86.3408 86.5578,-91.113 91.5983,-95.9703\"/>\n</g>\n<!-- 140019038654160 -->\n<g id=\"node4\" class=\"node\">\n<title>140019038654160</title>\n<polygon fill=\"#d3d3d3\" stroke=\"#000000\" points=\"177,-196 34,-196 34,-177 177,-177 177,-196\"/>\n<text text-anchor=\"middle\" x=\"105.5\" y=\"-184\" font-family=\"monospace\" font-size=\"10.00\" fill=\"#000000\">ReshapeAliasBackward0</text>\n</g>\n<!-- 140019038654160&#45;&gt;140019039281104 -->\n<g id=\"edge2\" class=\"edge\">\n<title>140019038654160&#45;&gt;140019039281104</title>\n<path fill=\"none\" stroke=\"#000000\" d=\"M96.2681,-176.9197C88.7609,-169.1293 77.979,-157.9405 68.9951,-148.6176\"/>\n<polygon fill=\"#000000\" stroke=\"#000000\" points=\"71.4422,-146.113 61.983,-141.3408 66.4017,-150.9703 71.4422,-146.113\"/>\n</g>\n<!-- 140019039279504 -->\n<g id=\"node11\" class=\"node\">\n<title>140019039279504</title>\n<polygon fill=\"#d3d3d3\" stroke=\"#000000\" points=\"204,-141 115,-141 115,-122 204,-122 204,-141\"/>\n<text text-anchor=\"middle\" x=\"159.5\" y=\"-129\" font-family=\"monospace\" font-size=\"10.00\" fill=\"#000000\">SubBackward0</text>\n</g>\n<!-- 140019038654160&#45;&gt;140019039279504 -->\n<g id=\"edge10\" class=\"edge\">\n<title>140019038654160&#45;&gt;140019039279504</title>\n<path fill=\"none\" stroke=\"#000000\" d=\"M114.9061,-176.9197C122.5549,-169.1293 133.5403,-157.9405 142.6936,-148.6176\"/>\n<polygon fill=\"#000000\" stroke=\"#000000\" points=\"145.3296,-150.9286 149.8381,-141.3408 140.3347,-146.0244 145.3296,-150.9286\"/>\n</g>\n<!-- 140021273346384 -->\n<g id=\"node5\" class=\"node\">\n<title>140021273346384</title>\n<polygon fill=\"#d3d3d3\" stroke=\"#000000\" points=\"150,-251 61,-251 61,-232 150,-232 150,-251\"/>\n<text text-anchor=\"middle\" x=\"105.5\" y=\"-239\" font-family=\"monospace\" font-size=\"10.00\" fill=\"#000000\">AddBackward0</text>\n</g>\n<!-- 140021273346384&#45;&gt;140019038654160 -->\n<g id=\"edge3\" class=\"edge\">\n<title>140021273346384&#45;&gt;140019038654160</title>\n<path fill=\"none\" stroke=\"#000000\" d=\"M105.5,-231.9197C105.5,-224.9083 105.5,-215.1442 105.5,-206.4652\"/>\n<polygon fill=\"#000000\" stroke=\"#000000\" points=\"109.0001,-206.3408 105.5,-196.3408 102.0001,-206.3409 109.0001,-206.3408\"/>\n</g>\n<!-- 140021273349584 -->\n<g id=\"node6\" class=\"node\">\n<title>140021273349584</title>\n<polygon fill=\"#d3d3d3\" stroke=\"#000000\" points=\"92,-306 9,-306 9,-287 92,-287 92,-306\"/>\n<text text-anchor=\"middle\" x=\"50.5\" y=\"-294\" font-family=\"monospace\" font-size=\"10.00\" fill=\"#000000\">MvBackward0</text>\n</g>\n<!-- 140021273349584&#45;&gt;140021273346384 -->\n<g id=\"edge4\" class=\"edge\">\n<title>140021273349584&#45;&gt;140021273346384</title>\n<path fill=\"none\" stroke=\"#000000\" d=\"M60.0803,-286.9197C67.8707,-279.1293 79.0595,-267.9405 88.3824,-258.6176\"/>\n<polygon fill=\"#000000\" stroke=\"#000000\" points=\"91.063,-260.8868 95.6592,-251.3408 86.1132,-255.937 91.063,-260.8868\"/>\n</g>\n<!-- 140021273350032 -->\n<g id=\"node7\" class=\"node\">\n<title>140021273350032</title>\n<polygon fill=\"#d3d3d3\" stroke=\"#000000\" points=\"101,-367 0,-367 0,-348 101,-348 101,-367\"/>\n<text text-anchor=\"middle\" x=\"50.5\" y=\"-355\" font-family=\"monospace\" font-size=\"10.00\" fill=\"#000000\">AccumulateGrad</text>\n</g>\n<!-- 140021273350032&#45;&gt;140021273349584 -->\n<g id=\"edge5\" class=\"edge\">\n<title>140021273350032&#45;&gt;140021273349584</title>\n<path fill=\"none\" stroke=\"#000000\" d=\"M50.5,-347.9688C50.5,-339.5131 50.5,-326.8901 50.5,-316.2615\"/>\n<polygon fill=\"#000000\" stroke=\"#000000\" points=\"54.0001,-316.1656 50.5,-306.1656 47.0001,-316.1657 54.0001,-316.1656\"/>\n</g>\n<!-- 140019033754128 -->\n<g id=\"node8\" class=\"node\">\n<title>140019033754128</title>\n<polygon fill=\"#add8e6\" stroke=\"#000000\" points=\"77.5,-440 23.5,-440 23.5,-409 77.5,-409 77.5,-440\"/>\n<text text-anchor=\"middle\" x=\"50.5\" y=\"-416\" font-family=\"monospace\" font-size=\"10.00\" fill=\"#000000\"> (2)</text>\n</g>\n<!-- 140019033754128&#45;&gt;140021273350032 -->\n<g id=\"edge6\" class=\"edge\">\n<title>140019033754128&#45;&gt;140021273350032</title>\n<path fill=\"none\" stroke=\"#000000\" d=\"M50.5,-408.9604C50.5,-399.6356 50.5,-387.6748 50.5,-377.6317\"/>\n<polygon fill=\"#000000\" stroke=\"#000000\" points=\"54.0001,-377.35 50.5,-367.3501 47.0001,-377.3501 54.0001,-377.35\"/>\n</g>\n<!-- 140021273348112 -->\n<g id=\"node9\" class=\"node\">\n<title>140021273348112</title>\n<polygon fill=\"#d3d3d3\" stroke=\"#000000\" points=\"211,-306 110,-306 110,-287 211,-287 211,-306\"/>\n<text text-anchor=\"middle\" x=\"160.5\" y=\"-294\" font-family=\"monospace\" font-size=\"10.00\" fill=\"#000000\">AccumulateGrad</text>\n</g>\n<!-- 140021273348112&#45;&gt;140021273346384 -->\n<g id=\"edge7\" class=\"edge\">\n<title>140021273348112&#45;&gt;140021273346384</title>\n<path fill=\"none\" stroke=\"#000000\" d=\"M150.9197,-286.9197C143.1293,-279.1293 131.9405,-267.9405 122.6176,-258.6176\"/>\n<polygon fill=\"#000000\" stroke=\"#000000\" points=\"124.8868,-255.937 115.3408,-251.3408 119.937,-260.8868 124.8868,-255.937\"/>\n</g>\n<!-- 140019033753168 -->\n<g id=\"node10\" class=\"node\">\n<title>140019033753168</title>\n<polygon fill=\"#add8e6\" stroke=\"#000000\" points=\"187.5,-373 133.5,-373 133.5,-342 187.5,-342 187.5,-373\"/>\n<text text-anchor=\"middle\" x=\"160.5\" y=\"-349\" font-family=\"monospace\" font-size=\"10.00\" fill=\"#000000\"> ()</text>\n</g>\n<!-- 140019033753168&#45;&gt;140021273348112 -->\n<g id=\"edge8\" class=\"edge\">\n<title>140019033753168&#45;&gt;140021273348112</title>\n<path fill=\"none\" stroke=\"#000000\" d=\"M160.5,-341.791C160.5,-334.0249 160.5,-324.5706 160.5,-316.3129\"/>\n<polygon fill=\"#000000\" stroke=\"#000000\" points=\"164.0001,-316.0647 160.5,-306.0648 157.0001,-316.0648 164.0001,-316.0647\"/>\n</g>\n<!-- 140019039279504&#45;&gt;140019039280208 -->\n<g id=\"edge9\" class=\"edge\">\n<title>140019039279504&#45;&gt;140019039280208</title>\n<path fill=\"none\" stroke=\"#000000\" d=\"M150.0939,-121.9197C142.4451,-114.1293 131.4597,-102.9405 122.3064,-93.6176\"/>\n<polygon fill=\"#000000\" stroke=\"#000000\" points=\"124.6653,-91.0244 115.1619,-86.3408 119.6704,-95.9286 124.6653,-91.0244\"/>\n</g>\n</g>\n</svg>\n"
          },
          "metadata": {},
          "execution_count": 12
        }
      ],
      "source": [
        "# TODO: please write code to show the computation graph of `loss`. \n",
        "torchviz.make_dot(loss)"
      ]
    },
    {
      "cell_type": "markdown",
      "metadata": {
        "id": "Tar3o6eqY937"
      },
      "source": [
        "### <span style=\"color:red\">Question 6 (2 points):</span>\n",
        "\n",
        "Please fix issues in the following two code blocks. "
      ]
    },
    {
      "cell_type": "code",
      "execution_count": null,
      "metadata": {
        "colab": {
          "base_uri": "https://localhost:8080/"
        },
        "id": "3o50K53BemjP",
        "outputId": "cb9946a5-1352-47c8-de88-e79e9cb02b9b"
      },
      "outputs": [
        {
          "output_type": "stream",
          "name": "stdout",
          "text": [
            "[tensor([1.6000, 2.4000]), tensor(0.8000)]\n"
          ]
        }
      ],
      "source": [
        "# Check gradients of parameters\n",
        "\n",
        "x = torch.tensor([[1, 2], [3, 4]], dtype=torch.float32)\n",
        "w = torch.tensor([1, 1], dtype=torch.float32, requires_grad = True)\n",
        "b = torch.tensor(0.2, dtype=torch.float32, requires_grad = True)\n",
        "\n",
        "y_hat = regression_func(x, w, b)\n",
        "loss  = loss_func(y, y_hat)\n",
        "\n",
        "# TODO: uncomment the following line so that torch computes gradients and stores them in `.grad`\n",
        "loss.backward()\n",
        "\n",
        "dl_dwb = [w.grad, b.grad]\n",
        "\n",
        "if w.grad is None or b.grad is None:\n",
        "    raise Exception(\"No gradient is computed for w or b\")\n",
        "\n",
        "# gradient with respect to w and b\n",
        "print(dl_dwb)"
      ]
    },
    {
      "cell_type": "code",
      "execution_count": null,
      "metadata": {
        "colab": {
          "base_uri": "https://localhost:8080/"
        },
        "id": "ABhDSyyBemjQ",
        "outputId": "dcdb2599-1e7f-4ae7-c9a7-677168bef075"
      },
      "outputs": [
        {
          "output_type": "stream",
          "name": "stdout",
          "text": [
            "tensor([-0.6000, -1.4000], requires_grad=True)\n",
            "tensor(-0.6000, requires_grad=True)\n"
          ]
        }
      ],
      "source": [
        "# Update model parameters in one optimization step\n",
        "# TODO: Can you fix the following to lines, so `w` will be updated by the optimizer ?\n",
        "w = torch.tensor([1, 1], dtype=torch.float32, requires_grad = True)\n",
        "b = torch.tensor(0.2, dtype=torch.float32, requires_grad = True)\n",
        "\n",
        "# note that the learning rate is 1.0\n",
        "optimizer = torch.optim.SGD([w, b], lr=1.0)\n",
        "optimizer.zero_grad()\n",
        "\n",
        "y_hat = regression_func(x, w, b)\n",
        "loss  = loss_func(y, y_hat)\n",
        "\n",
        "loss.backward()\n",
        "\n",
        "optimizer.step()\n",
        "\n",
        "# Check the result below. Note that the calculation is: w <- w - dw * learning_rate; \n",
        "# it is subtraction, not addtion.\n",
        "print(w)\n",
        "print(b)\n",
        "\n",
        "diff = torch.sum(torch.abs(w - torch.tensor([1.0, 1.0])))\n",
        "if diff < 1e-6:\n",
        "    raise Exception(\"w is not updated by the optimizer.\")"
      ]
    },
    {
      "cell_type": "markdown",
      "metadata": {
        "id": "m43WxmA-emjQ"
      },
      "source": [
        "### Train the regression model\n",
        "\n",
        "Now we can implement a regression model. We use data with one feature only so we can plot the data easily. Assume the feature matrix is `x_np` and the label is `y_np`. \n"
      ]
    },
    {
      "cell_type": "code",
      "execution_count": null,
      "metadata": {
        "colab": {
          "base_uri": "https://localhost:8080/",
          "height": 483
        },
        "id": "Cq0vccIJemjQ",
        "outputId": "707c667b-1857-4d4a-b3ac-75d52e359fc2"
      },
      "outputs": [
        {
          "output_type": "display_data",
          "data": {
            "text/plain": [
              "<Figure size 720x576 with 1 Axes>"
            ],
            "image/png": "[encoded data removed]"
          },
          "metadata": {
            "needs_background": "light"
          }
        }
      ],
      "source": [
        "# plot the data before fitting the model. \n",
        "# numpy values\n",
        "N = 100\n",
        "x_np = np.random.random_sample([N, 1]).astype(np.float32)\n",
        "y_np = (np.squeeze(x_np.dot([[0.3]])) + 1.0 + 0.1 * np.random.random_sample([N])).astype(np.float32)\n",
        "\n",
        "plt.plot(np.squeeze(x_np), y_np, 'o')\n",
        "plt.ylabel('y')\n",
        "plt.ylabel('x')\n",
        "plt.show()\n"
      ]
    },
    {
      "cell_type": "code",
      "execution_count": null,
      "metadata": {
        "colab": {
          "base_uri": "https://localhost:8080/"
        },
        "id": "bFqsYBrjemjR",
        "outputId": "d9750554-a561-4ecf-9366-85a4b66d4f69"
      },
      "outputs": [
        {
          "output_type": "stream",
          "name": "stderr",
          "text": [
            "/usr/local/lib/python3.7/dist-packages/ipykernel_launcher.py:5: UserWarning: To copy construct from a tensor, it is recommended to use sourceTensor.clone().detach() or sourceTensor.clone().detach().requires_grad_(True), rather than torch.tensor(sourceTensor).\n",
            "  \"\"\"\n",
            "/usr/local/lib/python3.7/dist-packages/ipykernel_launcher.py:6: UserWarning: To copy construct from a tensor, it is recommended to use sourceTensor.clone().detach() or sourceTensor.clone().detach().requires_grad_(True), rather than torch.tensor(sourceTensor).\n",
            "  \n",
            "/content/drive/MyDrive/cs137assignments/assignment1/implementation.py:28: UserWarning: To copy construct from a tensor, it is recommended to use sourceTensor.clone().detach() or sourceTensor.clone().detach().requires_grad_(True), rather than torch.tensor(sourceTensor).\n",
            "  return torch.tensor(x, dtype = torch.float32), torch.tensor(y, dtype = torch.float32)\n"
          ]
        },
        {
          "output_type": "stream",
          "name": "stdout",
          "text": [
            "loss beocmes  1.2278352  after  1  iterations.\n",
            "loss beocmes  0.12590666  after  101  iterations.\n",
            "loss beocmes  0.099561736  after  201  iterations.\n",
            "loss beocmes  0.097435914  after  301  iterations.\n",
            "loss beocmes  0.09726445  after  401  iterations.\n",
            "loss beocmes  0.09725059  after  501  iterations.\n",
            "loss beocmes  0.09724943  after  601  iterations.\n",
            "loss beocmes  0.097249396  after  701  iterations.\n",
            "loss beocmes  0.09724935  after  801  iterations.\n",
            "loss beocmes  0.097249344  after  901  iterations.\n",
            "loss becomes  0.09724935  after  1000  iterations.\n",
            "(w, b) =  (tensor([[0.3075]], requires_grad=True), tensor([1.0463], requires_grad=True))\n"
          ]
        }
      ],
      "source": [
        "from implementation import train_lr\n",
        "\n",
        "# You may want to use a small lambda the regularization weight\n",
        "lamb = 0.01\n",
        "x_np = torch.tensor(x_np)\n",
        "y_np = torch.tensor(y_np).reshape(-1)\n",
        "w, b = train_lr(x=x_np, y=y_np, lamb=lamb)\n",
        "\n",
        "print('(w, b) = ', (w, b))\n",
        "\n",
        "# the result should be similar to (0.3, 1.0)"
      ]
    },
    {
      "cell_type": "markdown",
      "metadata": {
        "id": "steU2m6DemjR"
      },
      "source": [
        "### <span style=\"color:red\">Question 7 (4 points):</span>\n",
        "Please implement the `implementation.train_lr` function, which trains a linear regression model.  "
      ]
    },
    {
      "cell_type": "code",
      "execution_count": null,
      "metadata": {
        "colab": {
          "base_uri": "https://localhost:8080/",
          "height": 483
        },
        "id": "YKV1uFiFemjR",
        "outputId": "104ba7eb-e187-4bd4-dfaf-60c38f090581"
      },
      "outputs": [
        {
          "output_type": "display_data",
          "data": {
            "text/plain": [
              "<Figure size 720x576 with 1 Axes>"
            ],
            "image/png": "[encoded data removed]"
          },
          "metadata": {
            "needs_background": "light"
          }
        }
      ],
      "source": [
        "# Plot the result\n",
        "\n",
        "w_np = w.detach().numpy()\n",
        "b_np = b.detach().numpy()\n",
        "\n",
        "x_line = np.arange(12) / 10.0\n",
        "y_line = x_line * np.squeeze(w_np) + b_np\n",
        "\n",
        "plt.plot(x_np, y_np, 'o')\n",
        "plt.plot(x_line, y_line)\n",
        "plt.ylabel('y')\n",
        "plt.ylabel('x')\n",
        "plt.show()\n",
        "\n",
        "\n",
        "# Please check whether the trained model fit the data (the line roughly cross data points). \n",
        "# If your model does not fit the data well, your model training is probably not successful.  \n"
      ]
    }
  ],
  "metadata": {
    "colab": {
      "collapsed_sections": [],
      "provenance": []
    },
    "kernelspec": {
      "display_name": "Python 3 (ipykernel)",
      "language": "python",
      "name": "python3"
    },
    "language_info": {
      "codemirror_mode": {
        "name": "ipython",
        "version": 3
      },
      "file_extension": ".py",
      "mimetype": "text/x-python",
      "name": "python",
      "nbconvert_exporter": "python",
      "pygments_lexer": "ipython3",
      "version": "3.9.12"
    }
  },
  "nbformat": 4,
  "nbformat_minor": 0
}