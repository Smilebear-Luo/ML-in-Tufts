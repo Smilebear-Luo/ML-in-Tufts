{
 "cells": [
  {
   "cell_type": "markdown",
   "metadata": {},
   "source": [
    "## Name and ID\n",
    "\n",
    "Shaohong Luo 1408604"
   ]
  },
  {
   "cell_type": "markdown",
   "metadata": {},
   "source": [
    "## HW05 Code\n",
    "\n",
    "\n",
    "You will complete the following notebook, as described in the PDF for Homework 05 (included in the download with the starter code).  You will submit:\n",
    "1. This notebook file, along with your COLLABORATORS.txt file and the two tree images (PDFs generated using `graphviz` within the code), to the Gradescope link for code.\n",
    "2. A PDF of this notebook and all of its output, once it is completed, to the Gradescope link for the PDF.\n",
    "\n",
    "\n",
    "Please report any questions to the [class Piazza page](https://piazza.com/tufts/spring2021/comp135).\n",
    "\n",
    "### Import required libraries."
   ]
  },
  {
   "cell_type": "code",
   "execution_count": 88,
   "metadata": {},
   "outputs": [],
   "source": [
    "import numpy as np\n",
    "import pandas as pd\n",
    "import math\n",
    "import sklearn.tree\n",
    "import graphviz"
   ]
  },
  {
   "cell_type": "markdown",
   "metadata": {},
   "source": [
    "## Decision Trees\n",
    "\n",
    "You should start by computing the two heuristic values for the toy data described in the assignment handout. You should then load the two versions of the abalone data, compute the two heuristic values on features (for the simplified data), and then build decision trees for each set of data."
   ]
  },
  {
   "cell_type": "markdown",
   "metadata": {},
   "source": [
    "### 1 Compute both heuristics for toy data."
   ]
  },
  {
   "cell_type": "markdown",
   "metadata": {},
   "source": [
    "#### (a) Compute the counting-based heuristic, and order the features by it."
   ]
  },
  {
   "cell_type": "code",
   "execution_count": 2,
   "metadata": {},
   "outputs": [
    {
     "name": "stdout",
     "output_type": "stream",
     "text": [
      "feature_1: 0.75\n",
      "feature_2: 0.75\n"
     ]
    }
   ],
   "source": [
    "# TODO\n",
    "feature_1 = 3/4\n",
    "feature_2 = 3/4\n",
    "print('feature_1:',feature_1)\n",
    "print('feature_2:',feature_2)"
   ]
  },
  {
   "cell_type": "markdown",
   "metadata": {},
   "source": [
    "#### (b) Compute the information-theoretic heuristic, and order the features by it."
   ]
  },
  {
   "cell_type": "code",
   "execution_count": 3,
   "metadata": {
    "scrolled": true
   },
   "outputs": [
    {
     "name": "stdout",
     "output_type": "stream",
     "text": [
      "feature_1: 0.31127812445913283\n"
     ]
    }
   ],
   "source": [
    "# TODO\n",
    "H_example = 1.0\n",
    "#tree 1\n",
    "h_1_1 = 0\n",
    "h_1_2 = -(1/3*math.log(1/3,2)+2/3*math.log(2/3,2))\n",
    "gain_1 = 1-(1/4*h_1_1 + 3/4*h_1_2)\n",
    "print('feature_1:',gain_1)"
   ]
  },
  {
   "cell_type": "code",
   "execution_count": 4,
   "metadata": {},
   "outputs": [
    {
     "name": "stdout",
     "output_type": "stream",
     "text": [
      "feature_2: 0.18872187554086717\n"
     ]
    }
   ],
   "source": [
    "h_2_1 = -(3/4*math.log(3/4,2)+1/4*math.log(1/4,2))\n",
    "h_2_2 = -(1/4*math.log(1/4,2)+3/4*math.log(3/4,2))\n",
    "gain_2 = 1-(1/2*h_2_1 + 1/2*h_2_2)\n",
    "print('feature_2:',gain_2)"
   ]
  },
  {
   "cell_type": "markdown",
   "metadata": {},
   "source": [
    "#### (c) Discussion of results.\n",
    "\n",
    "The counting method cannot disguish the best feature between 1 and 2, but information-theoretic heuristic can. It means that the information-theoretic heuristic is more robost( it performs much better to avoid producing the same result.And information-theoretic heuristic is the better way to construct decision-tree."
   ]
  },
  {
   "cell_type": "markdown",
   "metadata": {},
   "source": [
    "### 2 Compute both heuristics for simplified abalone data."
   ]
  },
  {
   "cell_type": "code",
   "execution_count": 25,
   "metadata": {},
   "outputs": [
    {
     "data": {
      "text/html": [
       "<div>\n",
       "<style scoped>\n",
       "    .dataframe tbody tr th:only-of-type {\n",
       "        vertical-align: middle;\n",
       "    }\n",
       "\n",
       "    .dataframe tbody tr th {\n",
       "        vertical-align: top;\n",
       "    }\n",
       "\n",
       "    .dataframe thead th {\n",
       "        text-align: right;\n",
       "    }\n",
       "</style>\n",
       "<table border=\"1\" class=\"dataframe\">\n",
       "  <thead>\n",
       "    <tr style=\"text-align: right;\">\n",
       "      <th></th>\n",
       "      <th>is_male</th>\n",
       "      <th>length_mm</th>\n",
       "      <th>diam_mm</th>\n",
       "      <th>height_mm</th>\n",
       "      <th>rings</th>\n",
       "    </tr>\n",
       "  </thead>\n",
       "  <tbody>\n",
       "    <tr>\n",
       "      <th>0</th>\n",
       "      <td>0</td>\n",
       "      <td>0</td>\n",
       "      <td>0</td>\n",
       "      <td>0</td>\n",
       "      <td>0</td>\n",
       "    </tr>\n",
       "    <tr>\n",
       "      <th>1</th>\n",
       "      <td>0</td>\n",
       "      <td>1</td>\n",
       "      <td>1</td>\n",
       "      <td>0</td>\n",
       "      <td>1</td>\n",
       "    </tr>\n",
       "    <tr>\n",
       "      <th>2</th>\n",
       "      <td>0</td>\n",
       "      <td>1</td>\n",
       "      <td>1</td>\n",
       "      <td>1</td>\n",
       "      <td>1</td>\n",
       "    </tr>\n",
       "    <tr>\n",
       "      <th>3</th>\n",
       "      <td>0</td>\n",
       "      <td>0</td>\n",
       "      <td>0</td>\n",
       "      <td>0</td>\n",
       "      <td>0</td>\n",
       "    </tr>\n",
       "    <tr>\n",
       "      <th>4</th>\n",
       "      <td>0</td>\n",
       "      <td>1</td>\n",
       "      <td>1</td>\n",
       "      <td>1</td>\n",
       "      <td>1</td>\n",
       "    </tr>\n",
       "  </tbody>\n",
       "</table>\n",
       "</div>"
      ],
      "text/plain": [
       "   is_male  length_mm  diam_mm  height_mm  rings\n",
       "0        0          0        0          0      0\n",
       "1        0          1        1          0      1\n",
       "2        0          1        1          1      1\n",
       "3        0          0        0          0      0\n",
       "4        0          1        1          1      1"
      ]
     },
     "execution_count": 25,
     "metadata": {},
     "output_type": "execute_result"
    }
   ],
   "source": [
    "data = pd.read_csv('small_binary_x_train.csv')\n",
    "y = pd.read_csv('3class_y_train.csv')\n",
    "data = pd.concat([data,y],axis=1)\n",
    "data.head()"
   ]
  },
  {
   "cell_type": "markdown",
   "metadata": {},
   "source": [
    "#### (a) Compute the counting-based heuristic, and order the features by it."
   ]
  },
  {
   "cell_type": "code",
   "execution_count": 114,
   "metadata": {},
   "outputs": [
    {
     "name": "stdout",
     "output_type": "stream",
     "text": [
      "is_male : 0.6394836272040302\n",
      "length_mm : 0.5585642317380353\n",
      "diam_mm : 0.551007556675063\n",
      "height_mm : 0.5431360201511335\n"
     ]
    }
   ],
   "source": [
    "# TODO\n",
    "features = ['is_male','length_mm','diam_mm','height_mm']\n",
    "s_total = data.loc[:,'rings'].count()\n",
    "for i in features:\n",
    "    tree_true = data[data.loc[:,i]==1].loc[:,'rings'].count()\n",
    "    tree_false = data[data.loc[:,i]==0].loc[:,'rings'].count()\n",
    "    if tree_true>tree_false:\n",
    "        print(i,\":\",tree_true/s_total)\n",
    "    else:\n",
    "        print(i,\":\",tree_false/s_total)\n",
    "\n"
   ]
  },
  {
   "cell_type": "markdown",
   "metadata": {},
   "source": [
    "#### (b) Compute the information-theoretic heuristic, and order the features by it."
   ]
  },
  {
   "cell_type": "code",
   "execution_count": 79,
   "metadata": {},
   "outputs": [
    {
     "name": "stdout",
     "output_type": "stream",
     "text": [
      "is_male: 0.024516482271752293\n",
      "length_mm: 0.13543816377043683\n",
      "diam_mm: 0.1500706886802703\n",
      "height_mm: 0.17302867291002477\n"
     ]
    }
   ],
   "source": [
    "# TODO\n",
    "features = ['is_male','length_mm','diam_mm','height_mm']\n",
    "answer=[]\n",
    "s = data.loc[:,'rings'].value_counts()\n",
    "s_total = data.loc[:,'rings'].count()\n",
    "p_sm = s[0]/s_total\n",
    "p_md = s[1]/s_total\n",
    "p_lg = s[2]/s_total\n",
    "h_abalone = -(p_sm*math.log(p_sm,2)+p_md*math.log(p_md,2)+p_lg*math.log(p_lg,2))\n",
    "for i in features:\n",
    "    tree_true = data[data.loc[:,i]==1].loc[:,'rings'].value_counts()\n",
    "    tree_true_num = data[data.loc[:,i]==1].loc[:,'rings'].count()\n",
    "    tree_true_small = tree_true[1]/tree_true_num\n",
    "    tree_true_medium = tree_true[0]/tree_true_num\n",
    "    tree_true_large = tree_true[2]/tree_true_num\n",
    "    h_true = -(tree_true_small*math.log(tree_true_small,2)+tree_true_medium*math.log(tree_true_medium,2)+tree_true_large*math.log(tree_true_large,2))\n",
    "\n",
    "    tree_false = data[data.loc[:,i]==0].loc[:,'rings'].value_counts()\n",
    "    tree_false_num = data[data.loc[:,i]==0].loc[:,'rings'].count()\n",
    "    tree_false_small = tree_false[0]/tree_false_num\n",
    "    tree_false_medium = tree_false[1]/tree_false_num\n",
    "    tree_false_large = tree_false[2]/tree_false_num\n",
    "    h_false = -(tree_false_small*math.log(tree_false_small,2)+tree_false_medium*math.log(tree_false_medium,2)+tree_false_large*math.log(tree_false_large,2))\n",
    "\n",
    "    tree_information_gain = h_abalone - ((tree_true_num/s_total) * h_true + (tree_false_num/s_total) * h_false)\n",
    "    answer.append(tree_information_gain)\n",
    "    \n",
    "print('is_male:',answer[0])\n",
    "print('length_mm:',answer[1])\n",
    "print('diam_mm:',answer[2])\n",
    "print('height_mm:',answer[3])"
   ]
  },
  {
   "cell_type": "markdown",
   "metadata": {},
   "source": [
    "### 3 Generate decision trees for full- and restricted-feature data\n",
    "\n",
    "#### (a) Print accuracy values and generate tree images."
   ]
  },
  {
   "cell_type": "code",
   "execution_count": 91,
   "metadata": {},
   "outputs": [],
   "source": [
    "x_train = pd.read_csv('x_train.csv')\n",
    "y_train = pd.read_csv('y_train.csv')\n",
    "x_test = pd.read_csv('x_test.csv')\n",
    "y_test = pd.read_csv('y_test.csv')\n",
    "\n",
    "x_simp_train = pd.read_csv('small_binary_x_train.csv')\n",
    "y_simp_train = pd.read_csv('3class_y_train.csv')\n",
    "x_simp_test = pd.read_csv('small_binary_x_test.csv')\n",
    "y_simp_test = pd.read_csv('3class_y_test.csv')\n"
   ]
  },
  {
   "cell_type": "code",
   "execution_count": 92,
   "metadata": {},
   "outputs": [
    {
     "data": {
      "text/plain": [
       "0.194"
      ]
     },
     "execution_count": 92,
     "metadata": {},
     "output_type": "execute_result"
    }
   ],
   "source": [
    "# TODO\n",
    "from sklearn.tree import DecisionTreeClassifier\n",
    "decision_tree = DecisionTreeClassifier(criterion='entropy')\n",
    "decision_tree.fit(x_train,y_train)\n",
    "decision_tree.score(x_test,y_test)"
   ]
  },
  {
   "cell_type": "code",
   "execution_count": 94,
   "metadata": {},
   "outputs": [
    {
     "data": {
      "text/plain": [
       "0.722"
      ]
     },
     "execution_count": 94,
     "metadata": {},
     "output_type": "execute_result"
    }
   ],
   "source": [
    "decision_tree2 = DecisionTreeClassifier(criterion='entropy')\n",
    "decision_tree2.fit(x_simp_train,y_simp_train)\n",
    "decision_tree2.score(x_simp_test,y_simp_test)"
   ]
  },
  {
   "cell_type": "code",
   "execution_count": 89,
   "metadata": {},
   "outputs": [
    {
     "data": {
      "text/plain": [
       "'abalone.pdf'"
      ]
     },
     "execution_count": 89,
     "metadata": {},
     "output_type": "execute_result"
    }
   ],
   "source": [
    "dot_data = sklearn.tree.export_graphviz(decision_tree, out_file=None)\n",
    "graph = graphviz.Source(dot_data)\n",
    "graph.render(\"abalone\")"
   ]
  },
  {
   "cell_type": "code",
   "execution_count": 95,
   "metadata": {},
   "outputs": [
    {
     "data": {
      "text/plain": [
       "'abalone-simplified.pdf'"
      ]
     },
     "execution_count": 95,
     "metadata": {},
     "output_type": "execute_result"
    }
   ],
   "source": [
    "dot_data = sklearn.tree.export_graphviz(decision_tree2, out_file=None)\n",
    "graph = graphviz.Source(dot_data)\n",
    "graph.render(\"abalone-simplified\")"
   ]
  },
  {
   "cell_type": "markdown",
   "metadata": {},
   "source": [
    "#### (b) Discuss the results seen for the two trees\n",
    "The tree constructed by the original data is quite complex, while the other constructed by the simplified data is more straigtforward. The reason of difference is that the simplified vision has much less values, it only takes '0','1' as the criteria, while the orginal data tree has much more data, which causes the complexity.  \n",
    "Error: Underfitting. \n"
   ]
  }
 ],
 "metadata": {
  "kernelspec": {
   "display_name": "Python 3 (ipykernel)",
   "language": "python",
   "name": "python3"
  },
  "language_info": {
   "codemirror_mode": {
    "name": "ipython",
    "version": 3
   },
   "file_extension": ".py",
   "mimetype": "text/x-python",
   "name": "python",
   "nbconvert_exporter": "python",
   "pygments_lexer": "ipython3",
   "version": "3.8.5"
  }
 },
 "nbformat": 4,
 "nbformat_minor": 2
}
