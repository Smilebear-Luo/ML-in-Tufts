{
 "cells": [
  {
   "cell_type": "code",
   "execution_count": 1,
   "id": "8042105b",
   "metadata": {},
   "outputs": [],
   "source": [
    "import numpy as np\n",
    "import pandas as pd\n",
    "from sklearn import preprocessing \n",
    "from sklearn.model_selection import GridSearchCV, cross_val_score, learning_curve, train_test_split\n",
    "from scipy.stats import bernoulli,norm\n",
    "import matplotlib.pyplot as plt\n",
    "from sklearn.metrics import log_loss\n",
    "import time\n",
    "from sklearn.metrics import accuracy_score"
   ]
  },
  {
   "cell_type": "markdown",
   "id": "9993caa6",
   "metadata": {},
   "source": [
    "# Preparation"
   ]
  },
  {
   "cell_type": "markdown",
   "id": "841999bc",
   "metadata": {},
   "source": [
    "### load dataset and separate X and t"
   ]
  },
  {
   "cell_type": "code",
   "execution_count": 2,
   "id": "4b838a3c",
   "metadata": {},
   "outputs": [],
   "source": [
    "data = pd.read_csv('data.csv')\n",
    "data.head()\n",
    "#remove something useless\n",
    "data = data.drop(['id','Unnamed: 32'],axis=1)\n",
    "data.diagnosis.replace(to_replace = dict(M = 1, B = 0), inplace = True)\n",
    "#seepate X and t\n",
    "X = data.drop('diagnosis',axis=1)\n",
    "t = data.diagnosis"
   ]
  },
  {
   "cell_type": "code",
   "execution_count": 3,
   "id": "05394e95",
   "metadata": {},
   "outputs": [],
   "source": [
    "#X = data[['concavity_mean','concave points_mean','concavity_worst','area_worst','concave points_worst']]"
   ]
  },
  {
   "cell_type": "code",
   "execution_count": 4,
   "id": "fc15ea5a",
   "metadata": {},
   "outputs": [
    {
     "data": {
      "text/plain": [
       "(569, 30)"
      ]
     },
     "execution_count": 4,
     "metadata": {},
     "output_type": "execute_result"
    }
   ],
   "source": [
    "# normalize X, let it in the range(0,1)\n",
    "X = preprocessing.normalize(X, axis=0)\n",
    "\n",
    "#take a look\n",
    "X_pd = pd.DataFrame(X)\n",
    "X_pd.head()\n",
    "X.shape"
   ]
  },
  {
   "cell_type": "markdown",
   "id": "6ca627d2",
   "metadata": {},
   "source": [
    "### split training and testing set(80%,20%)"
   ]
  },
  {
   "cell_type": "code",
   "execution_count": 5,
   "id": "1e41db61",
   "metadata": {},
   "outputs": [],
   "source": [
    "# Train_test split\n",
    "# total 569 data, 455 for training\n",
    "random_state = 42\n",
    "X_train, X_test, y_train, y_test = train_test_split(X, t, test_size = 0.2, random_state = random_state)"
   ]
  },
  {
   "cell_type": "code",
   "execution_count": 6,
   "id": "e20569cc",
   "metadata": {},
   "outputs": [
    {
     "data": {
      "text/plain": [
       "(455, 30)"
      ]
     },
     "execution_count": 6,
     "metadata": {},
     "output_type": "execute_result"
    }
   ],
   "source": [
    "X_train.shape"
   ]
  },
  {
   "cell_type": "code",
   "execution_count": 7,
   "id": "3f4d69f5",
   "metadata": {},
   "outputs": [
    {
     "data": {
      "text/plain": [
       "(455,)"
      ]
     },
     "execution_count": 7,
     "metadata": {},
     "output_type": "execute_result"
    }
   ],
   "source": [
    "#Take a look\n",
    "len(X_train[:,1])\n",
    "np.shape(X_train)\n",
    "np.shape( y_train)"
   ]
  },
  {
   "cell_type": "markdown",
   "id": "7dd7651c",
   "metadata": {},
   "source": [
    "# Model"
   ]
  },
  {
   "cell_type": "markdown",
   "id": "0d54b31c",
   "metadata": {},
   "source": [
    "### global func"
   ]
  },
  {
   "cell_type": "code",
   "execution_count": 8,
   "id": "05a8e4cd",
   "metadata": {},
   "outputs": [],
   "source": [
    "def sigmoid(x):\n",
    "    return 1 / (1 + np.exp(-x))"
   ]
  },
  {
   "cell_type": "code",
   "execution_count": 9,
   "id": "1ed78542",
   "metadata": {},
   "outputs": [],
   "source": [
    "# likelihood function\n",
    "def likelihood(w,X):\n",
    "    condition = sigmoid(np.matmul(X,w))\n",
    "    result = bernoulli.rvs(condition)\n",
    "    return result"
   ]
  },
  {
   "cell_type": "markdown",
   "id": "9ea5ae50",
   "metadata": {},
   "source": [
    "### MLE(inference+prediction)"
   ]
  },
  {
   "cell_type": "markdown",
   "id": "607f5a64",
   "metadata": {},
   "source": [
    "#### First order method. GD & mini_batch GD & SGD(mini_batch size =1) "
   ]
  },
  {
   "cell_type": "code",
   "execution_count": 33,
   "id": "50134aac",
   "metadata": {},
   "outputs": [],
   "source": [
    "error_recorder_First_GD_MLE = []\n",
    "def First_GD_MLE(X, init_w, t, iter_time, epsilon, signal, method, batch_size=0):\n",
    "    # formula: w_new = w - epsolon * gradient(w_old)\n",
    "    # dimensional check: w: 30*1, X: 459*30, t:459*1, Grad_w: 30*1, final_w: 30*1\n",
    "    # if convergence, return w_new, otherwise return 0\n",
    "    final_w = 0 # to judge convergence\n",
    "    if(method == 'GD'):\n",
    "        for i in range(iter_time):\n",
    "            sigmoid_term = sigmoid(np.matmul(X,init_w))-t\n",
    "            gradient_w = np.matmul(np.transpose(X),sigmoid_term)\n",
    "            w_new = init_w - epsilon * gradient_w \n",
    "            #error = np.linalg.norm(w_new - init_w)\n",
    "            error = log_loss(likelihood(w_new,X),y_train)\n",
    "            error_recorder_First_GD_MLE.append(error)\n",
    "            if(error < signal): #convergence\n",
    "                final_w = w_new\n",
    "                break\n",
    "            else:\n",
    "                init_w = w_new\n",
    "    #some bugs\n",
    "    elif(method == 'Mini_batch'):\n",
    "        for i in range(iter_time):\n",
    "            idx = np.random.randint(np.shape(X)[0],size=batch_size)\n",
    "            X_s = X[idx,:]\n",
    "            t_s = t.take(idx)\n",
    "            sigmoid_term = sigmoid(np.matmul(X_s,init_w))- np.array(t_s)\n",
    "            gradient_w = np.matmul(np.transpose(X_s),sigmoid_term)\n",
    "            w_new = init_w - epsilon * gradient_w\n",
    "            #error = np.linalg.norm(w_new - init_w)\n",
    "            error = log_loss(t,likelihood(w_new,X))\n",
    "            error_recorder_First_GD_MLE.append(error)\n",
    "            if(error < signal): #convergence\n",
    "                final_w = w_new\n",
    "                break\n",
    "            else:\n",
    "                init_w = w_new\n",
    "            # check if convergence each 1000 itertion         \n",
    "    return final_w"
   ]
  },
  {
   "cell_type": "markdown",
   "id": "893c9a66",
   "metadata": {},
   "source": [
    "### Prediction"
   ]
  },
  {
   "cell_type": "markdown",
   "id": "90d4ce1b",
   "metadata": {},
   "source": [
    "#### use First order MLE"
   ]
  },
  {
   "cell_type": "code",
   "execution_count": 11,
   "id": "7c387d63",
   "metadata": {},
   "outputs": [],
   "source": [
    "# accuracy function\n",
    "def accuracy(a,b):\n",
    "    # formula : same number/all number\n",
    "    all_number = np.shape(a)[0]\n",
    "    same_number = 0\n",
    "    for i in range(all_number):\n",
    "        if(a[i]==b[i]):\n",
    "            same_number+=1\n",
    "    return same_number/all_number"
   ]
  },
  {
   "cell_type": "code",
   "execution_count": 22,
   "id": "eb65713e",
   "metadata": {},
   "outputs": [
    {
     "name": "stdout",
     "output_type": "stream",
     "text": [
      "time cost 20.60502004623413 s\n"
     ]
    }
   ],
   "source": [
    "# prediction by first order MLE(Gradient descent)\n",
    "\n",
    "X = X_train\n",
    "t = y_train\n",
    "init_w = np.ones(30)\n",
    "iter_time = 50000\n",
    "signal = 2\n",
    "epsilon = 0.01\n",
    "time_start=time.time()\n",
    "w = First_GD_MLE(X, init_w, t, iter_time, epsilon, signal, method='GD')\n",
    "time_end=time.time()\n",
    "print('time cost',time_end-time_start,'s')"
   ]
  },
  {
   "cell_type": "code",
   "execution_count": 34,
   "id": "3051f550",
   "metadata": {},
   "outputs": [
    {
     "name": "stdout",
     "output_type": "stream",
     "text": [
      "time cost 9.727652311325073 s\n"
     ]
    }
   ],
   "source": [
    "# sgd\n",
    "X = X_train\n",
    "t = y_train\n",
    "#init_w = np.random.rand(30)\n",
    "init_w = np.ones(30)\n",
    "iter_time = 30000\n",
    "signal = 2\n",
    "epsilon = 0.2\n",
    "time_start=time.time()\n",
    "w = First_GD_MLE(X, init_w, t, iter_time, epsilon, signal, method='Mini_batch',batch_size = 30)\n",
    "time_end=time.time()\n",
    "print('time cost',time_end-time_start,'s')"
   ]
  },
  {
   "cell_type": "code",
   "execution_count": 35,
   "id": "3fd24265",
   "metadata": {},
   "outputs": [
    {
     "name": "stdout",
     "output_type": "stream",
     "text": [
      "[3.8714215087445485, 4.782344836928086, 4.023238548727826, 3.7955244115733415, 3.4159651167237484, 4.402803115648388, 4.175064375496051, 3.871430295529496, 3.3400574754106045, 1.9736636963503522]\n",
      "9976\n"
     ]
    }
   ],
   "source": [
    "print(error_recorder_First_GD_MLE[-10:])\n",
    "print(len(error_recorder_First_GD_MLE))"
   ]
  },
  {
   "cell_type": "code",
   "execution_count": 37,
   "id": "f7e88f16",
   "metadata": {},
   "outputs": [
    {
     "data": {
      "text/plain": [
       "[<matplotlib.lines.Line2D at 0x1deb7b31f40>]"
      ]
     },
     "execution_count": 37,
     "metadata": {},
     "output_type": "execute_result"
    },
    {
     "data": {
      "image/png": "[encoded data removed]",
      "text/plain": [
       "<Figure size 432x288 with 1 Axes>"
      ]
     },
     "metadata": {
      "needs_background": "light"
     },
     "output_type": "display_data"
    }
   ],
   "source": [
    "x = np.arange(9976)\n",
    "y = error_recorder_First_GD_MLE\n",
    "plt.plot(x,y)"
   ]
  },
  {
   "cell_type": "code",
   "execution_count": 17,
   "id": "2170ad05",
   "metadata": {},
   "outputs": [
    {
     "name": "stdout",
     "output_type": "stream",
     "text": [
      "training accuracy: 0.8923076923076924\n"
     ]
    },
    {
     "data": {
      "text/plain": [
       "0.9156228070175438"
      ]
     },
     "execution_count": 17,
     "metadata": {},
     "output_type": "execute_result"
    }
   ],
   "source": [
    "# training accurancy(0.9538461538461539)\n",
    "y_predict = likelihood(w,X)\n",
    "print('training accuracy:',accuracy_score(y_predict,y_train.values))\n",
    "\n",
    "# prediction accuracy (0.9261403508771928)\n",
    "test_acc=[]\n",
    "\n",
    "for i in range(1000):\n",
    "    y_predict = likelihood(w,X_test)\n",
    "    #print('testing accuracy:',accuracy_score(y_predict,y_test.values))\n",
    "    test_acc.append(accuracy_score(y_predict,y_test.values))\n",
    "np.mean(test_acc)"
   ]
  },
  {
   "cell_type": "markdown",
   "id": "e8599e7f",
   "metadata": {},
   "source": [
    "### PPE(by Laplace approximation)"
   ]
  },
  {
   "cell_type": "code",
   "execution_count": 12,
   "id": "007f7a95",
   "metadata": {},
   "outputs": [],
   "source": [
    "error_recorder_First_GD_MAP = []\n",
    "\n",
    "def First_GD_MAP(X, init_w, t, iter_time, epsilon, signal, alpha, method, batch_size=0):\n",
    "    # formula: w_new = w - epsolon * gradient(w_old)\n",
    "    # dimensional check: w: 30*1, X: 459*30, t:459*1, Grad_w: 30*1, final_w: 30*1, alpha: scaler\n",
    "    # if convergence, return w_new, otherwise return 0\n",
    "    final_w = 0 # to judge convergence\n",
    "    if(method == 'GD'):\n",
    "        for i in range(iter_time):\n",
    "            sigmoid_term = sigmoid(np.matmul(X,init_w))-t\n",
    "            gradient_w = np.matmul(np.transpose(X),sigmoid_term)+ alpha*init_w\n",
    "            w_new = init_w - epsilon * gradient_w \n",
    "            error = np.linalg.norm(w_new - init_w)\n",
    "            #error = log_loss(likelihood(w_new,X),likelihood(init_w,X))\n",
    "            error_recorder_First_GD_MAP.append(error)\n",
    "            if(error < signal): #convergence\n",
    "                final_w = w_new\n",
    "                break\n",
    "            else:\n",
    "                init_w = w_new\n",
    "    elif(method == 'Mini_batch'):\n",
    "        for i in range(iter_time):\n",
    "            idx = np.random.randint(np.shape(X)[0],size=batch_size)\n",
    "            X_s = X[idx,:]\n",
    "            t_s = t.take(idx)\n",
    "            sigmoid_term = sigmoid(np.matmul(X_s,init_w))-t_s\n",
    "            gradient_w = np.matmul(np.transpose(X_s),sigmoid_term)\n",
    "            w_new = init_w - epsilon * gradient_w\n",
    "            error = log_loss(likelihood(w_new,X),likelihood(init_w,X))\n",
    "            error_recorder_First_GD_MAP.append(error)\n",
    "            init_w = w_new\n",
    "            # check if convergence each 1000 itertion\n",
    "            if(error < signal): #convergence\n",
    "                final_w = w_new\n",
    "                break        \n",
    "    return final_w"
   ]
  },
  {
   "cell_type": "code",
   "execution_count": 13,
   "id": "aaf4f5ae",
   "metadata": {},
   "outputs": [],
   "source": [
    "def variance_for_laplace(X,w,alpha):\n",
    "    # hessian: X^T*R(w)X + alpha * I_D\n",
    "    # r_n(w) = sigmoid(x_n*w)(1-sigmoid(x_n*w))\n",
    "    # dimension: X:459*30, R(w):459*459, X_n:1*30, w:30*1 hessian: 30*30\n",
    "    \n",
    "    # compute r_n(w)\n",
    "    temp = [] #temporary room for r_nw\n",
    "    for i in range(X.shape[0]):\n",
    "        r_nw = sigmoid(np.matmul(X[i,:],w)) * (1-sigmoid(np.matmul(X[i,:],w)))\n",
    "        temp.append(r_nw)\n",
    "    \n",
    "    # make r_n(w) a matrix -> R(W)\n",
    "    R_w = np.diag(temp) # shape: 459*459\n",
    "    \n",
    "    # diagonal alpha (alpha * I_D)\n",
    "    alpha_tmp = np.ones(X.shape[1]) * alpha\n",
    "    diag_alpha = np.diag(alpha_tmp)\n",
    "    \n",
    "    #Hessian matrix\n",
    "    hessian = np.matmul(np.matmul(np.transpose(X),R_w),X) + diag_alpha\n",
    "    \n",
    "    return hessian"
   ]
  },
  {
   "cell_type": "code",
   "execution_count": 14,
   "id": "9015cf36",
   "metadata": {},
   "outputs": [],
   "source": [
    "# use Monte Carlo to compute PPE\n",
    "# w is sampled from N(w_map,hessian)\n",
    "\n",
    "def PPE_MC(X,mean,variance,iter_time_ppe):\n",
    "    w_sampling_sum = np.zeros(30)\n",
    "    for i in range(iter_time):\n",
    "        #w_sampling = np.random.multivariate_normal(mean=w_map, cov=np.linalg.inv(hessian)) \n",
    "        w_sampling = np.random.multivariate_normal(mean=w_map, cov=hessian) \n",
    "        w_sampling_sum += w_sampling\n",
    "    w_sampling = w_sampling_sum/iter_time\n",
    "    prediction = likelihood(w_sampling,X)\n",
    "    return prediction"
   ]
  },
  {
   "cell_type": "code",
   "execution_count": 15,
   "id": "9362e5ec",
   "metadata": {},
   "outputs": [],
   "source": [
    "X = X_train\n",
    "t = y_train\n",
    "init_w = np.random.rand(30)\n",
    "iter_time = 50000\n",
    "signal = 0.001\n",
    "epsilon = 0.01\n",
    "alpha = 0.001   #0.001\n",
    "\n",
    "w_map = First_GD_MAP(X, init_w, t, iter_time, epsilon, signal, alpha,method='GD')\n",
    "hessian = variance_for_laplace(X,w_map,alpha)"
   ]
  },
  {
   "cell_type": "code",
   "execution_count": 16,
   "id": "71712ad3",
   "metadata": {},
   "outputs": [
    {
     "name": "stdout",
     "output_type": "stream",
     "text": [
      "0.0009999785359260326\n",
      "45764\n"
     ]
    }
   ],
   "source": [
    "print(error_recorder_First_GD_MAP[-1])\n",
    "print(len(error_recorder_First_GD_MAP))"
   ]
  },
  {
   "cell_type": "code",
   "execution_count": 18,
   "id": "698abd93",
   "metadata": {},
   "outputs": [
    {
     "name": "stdout",
     "output_type": "stream",
     "text": [
      "training accuracy: 0.8967032967032967\n"
     ]
    }
   ],
   "source": [
    "iter_time_ppe = 10000\n",
    "prediction_train = PPE_MC(X,w_map,hessian,iter_time_ppe)\n",
    "print('training accuracy:',accuracy_score(prediction_train,y_train.values))"
   ]
  },
  {
   "cell_type": "code",
   "execution_count": 19,
   "id": "7b80e28a",
   "metadata": {},
   "outputs": [
    {
     "name": "stdout",
     "output_type": "stream",
     "text": [
      "0.9473684210526315\n"
     ]
    },
    {
     "data": {
      "text/plain": [
       "\"\\nfor i in range(100):\\n    prediction_test = PPE_MC(X_test,w_map,hessian,iter_time_ppe)\\n    #print('testing accuracy:',accuracy_score(y_predict,y_test.values))\\n    test_acc.append(accuracy_score(prediction_test,y_test.values))\\nnp.mean(test_acc)\\n\""
      ]
     },
     "execution_count": 19,
     "metadata": {},
     "output_type": "execute_result"
    }
   ],
   "source": [
    "prediction_test = PPE_MC(X_test,w_map,hessian,iter_time_ppe)\n",
    "print(accuracy_score(prediction_test,y_test.values))\n",
    "\n",
    "\n",
    "\n",
    "for i in range(100):\n",
    "    prediction_test = PPE_MC(X_test,w_map,hessian,iter_time_ppe)\n",
    "    #print('testing accuracy:',accuracy_score(y_predict,y_test.values))\n",
    "    test_acc.append(accuracy_score(prediction_test,y_test.values))\n",
    "np.mean(test_acc)\n",
    "\n"
   ]
  },
  {
   "cell_type": "markdown",
   "id": "15b1bfb1",
   "metadata": {},
   "source": [
    "assumption:  \n",
    "\n",
    "1 and 2. We hypothesize that some features are insignificant to our classification task. As we discuss in data analysis part, these features should be highly correlated or the mean of Gaussian distribution is almost same. To verify, we bin the features which are highly correlated/same Gaussian mean(two different hypotheses) into a bin and compute the classification accuracy by only using the features in this bin. Then we removed a feature in this bin and compute the classification accuracy again. Repeat above process for several times. If the classification accuracy is unchanged, we can verify our hypothesis.  \n",
    "\n",
    "\n",
    "3. We hypothesize that the running time of SGD is the fastest. Since compared to gradient descent, it doesn't need to compute the gradient of the whole dataset in each iteration. Besides, the running time between first order gradient descent and second order gradient descent is waiting to verify. Since the complexity of 1st is $O(M)$ for each iteration, while the 2rd needs $O(M^{3})$. However, the 2rd uses fewer iterations for convergence.  \n",
    "\n",
    "\n",
    "4. We hypothesize that MAP will outperform MLE on negative log-likelihood. Since our dataset only have 569 data, which is not big enough."
   ]
  },
  {
   "cell_type": "markdown",
   "id": "843bcc21",
   "metadata": {},
   "source": [
    "## Assumption1"
   ]
  },
  {
   "cell_type": "code",
   "execution_count": null,
   "id": "b5be8f65",
   "metadata": {},
   "outputs": [],
   "source": [
    "# remove the highly correlated features\n",
    "X_copy = X_pd.copy()\n",
    "t_copy = t.copy()"
   ]
  },
  {
   "cell_type": "code",
   "execution_count": null,
   "id": "d63593c3",
   "metadata": {},
   "outputs": [],
   "source": [
    "correlated_features = set()\n",
    "correlation_matrix = X_copy.corr() # correlation matrix\n",
    "for i in range(len(correlation_matrix.columns)):\n",
    "    for j in range(i):\n",
    "        #threshold = 0.9\n",
    "        if abs(correlation_matrix.iloc[i, j]) > 0.80: \n",
    "            colname = correlation_matrix.columns[i]\n",
    "            correlated_features.add(colname)\n",
    "print(len(correlated_features))\n",
    "print(correlated_features)"
   ]
  },
  {
   "cell_type": "code",
   "execution_count": null,
   "id": "3ce0f5c4",
   "metadata": {},
   "outputs": [],
   "source": [
    "X_copy.drop(labels=correlated_features,axis=1,inplace=True)"
   ]
  },
  {
   "cell_type": "code",
   "execution_count": null,
   "id": "bb4d7b97",
   "metadata": {},
   "outputs": [],
   "source": [
    "X_copy.shape"
   ]
  },
  {
   "cell_type": "code",
   "execution_count": null,
   "id": "8266d1a0",
   "metadata": {},
   "outputs": [],
   "source": [
    "#split training and testing set\n",
    "X_train, X_test, y_train, y_test = train_test_split(X_copy, t, test_size = 0.2, random_state = 42)"
   ]
  },
  {
   "cell_type": "code",
   "execution_count": null,
   "id": "11a16833",
   "metadata": {},
   "outputs": [],
   "source": [
    "# use first order mle to make prediction\n",
    "X = X_train\n",
    "t= y_train\n",
    "init_w = np.random.rand(25)\n",
    "iter_time = 50000\n",
    "signal = 0.0025\n",
    "epsilon = 0.01\n",
    "time_start=time.time()\n",
    "w = First_GD_MLE(X, init_w, t, iter_time, epsilon, signal, method='GD')\n",
    "time_end=time.time()\n",
    "print('time cost',time_end-time_start,'s')"
   ]
  },
  {
   "cell_type": "code",
   "execution_count": null,
   "id": "d3ebfbe0",
   "metadata": {},
   "outputs": [],
   "source": [
    "error_recorder_First_GD_MLE[-10:]"
   ]
  },
  {
   "cell_type": "code",
   "execution_count": null,
   "id": "eda11ed9",
   "metadata": {
    "scrolled": true
   },
   "outputs": [],
   "source": [
    "x = np.arange(0,38900)\n",
    "y = error_recorder_First_GD_MLE\n",
    "plt.plot(x,y)"
   ]
  },
  {
   "cell_type": "code",
   "execution_count": null,
   "id": "befd58f1",
   "metadata": {},
   "outputs": [],
   "source": [
    "y_predict = likelihood(w,X)\n",
    "print('training accuracy:',accuracy_score(y_predict,y_train.values))\n",
    "\n",
    "# prediction accuracy (0.8982456140350876)\n",
    "test_acc=[]\n",
    "\n",
    "for i in range(100):\n",
    "    y_predict = likelihood(w,X_test)\n",
    "    #print('testing accuracy:',accuracy_score(y_predict,y_test.values))\n",
    "    test_acc.append(accuracy_score(y_predict,y_test.values))\n",
    "np.mean(test_acc)"
   ]
  },
  {
   "cell_type": "code",
   "execution_count": null,
   "id": "edb78e6b",
   "metadata": {},
   "outputs": [],
   "source": [
    "# pca\n",
    "from sklearn.decomposition import PCA\n",
    "pca = PCA(n_components=5)\n",
    "X_pca = X.copy()\n",
    "pca.fit_transform(X_pca)"
   ]
  },
  {
   "cell_type": "markdown",
   "id": "d8bbdb12",
   "metadata": {},
   "source": [
    "#### delete w=0 data"
   ]
  },
  {
   "cell_type": "code",
   "execution_count": null,
   "id": "cb1fd387",
   "metadata": {},
   "outputs": [],
   "source": [
    "#[7,8,24,27,28]\n",
    "X_copy = X_copy.drop([], axis=1)"
   ]
  },
  {
   "cell_type": "code",
   "execution_count": null,
   "id": "a9e6d9f5",
   "metadata": {},
   "outputs": [],
   "source": [
    "X_train, X_test, y_train, y_test = train_test_split(X_copy, t, test_size = 0.2, random_state = 42)"
   ]
  },
  {
   "cell_type": "code",
   "execution_count": null,
   "id": "9b43f126",
   "metadata": {},
   "outputs": [],
   "source": [
    "# use first order mle to make prediction\n",
    "X = X_train\n",
    "t= y_train\n",
    "init_w = np.random.rand(25)\n",
    "iter_time = 50000\n",
    "signal = 0.0025\n",
    "epsilon = 0.01\n",
    "time_start=time.time()\n",
    "w = First_GD_MLE(X, init_w, t, iter_time, epsilon, signal, method='GD')\n",
    "time_end=time.time()\n",
    "print('time cost',time_end-time_start,'s')"
   ]
  },
  {
   "cell_type": "code",
   "execution_count": null,
   "id": "3f48e96e",
   "metadata": {},
   "outputs": [],
   "source": [
    "error_recorder_First_GD_MLE[-10:]"
   ]
  },
  {
   "cell_type": "code",
   "execution_count": null,
   "id": "b5bfde2c",
   "metadata": {},
   "outputs": [],
   "source": [
    "y_predict = likelihood(w,X)\n",
    "print('training accuracy:',accuracy_score(y_predict,y_train.values))\n",
    "\n",
    "# prediction accuracy (0.8982456140350876)\n",
    "test_acc=[]\n",
    "\n",
    "for i in range(100):\n",
    "    y_predict = likelihood(w,X_test)\n",
    "    #print('testing accuracy:',accuracy_score(y_predict,y_test.values))\n",
    "    test_acc.append(accuracy_score(y_predict,y_test.values))\n",
    "np.mean(test_acc)"
   ]
  },
  {
   "cell_type": "markdown",
   "id": "4adda392",
   "metadata": {},
   "source": [
    "#### pca by mle"
   ]
  },
  {
   "cell_type": "code",
   "execution_count": null,
   "id": "ec76b1b5",
   "metadata": {},
   "outputs": [],
   "source": [
    "X = X_pca\n",
    "t = y_train\n",
    "init_w = np.random.rand(30)\n",
    "iter_time = 50000\n",
    "signal = 0.002\n",
    "epsilon = 0.01\n",
    "time_start=time.time()\n",
    "w = First_GD_MLE(X, init_w, t, iter_time, epsilon, signal, method='GD')\n",
    "time_end=time.time()\n",
    "print('time cost',time_end-time_start,'s')"
   ]
  },
  {
   "cell_type": "code",
   "execution_count": null,
   "id": "f3a23901",
   "metadata": {},
   "outputs": [],
   "source": [
    "# mle for pca\n",
    "# training accurancy(0.9538461538461539)\n",
    "y_predict = likelihood(w,X_pca)\n",
    "print('training accuracy:',accuracy_score(y_predict,y_train.values))\n",
    "\n",
    "# prediction accuracy (0.9261403508771928)\n",
    "test_acc=[]\n",
    "\n",
    "for i in range(100):\n",
    "    y_predict = likelihood(w,X_test)\n",
    "    #print('testing accuracy:',accuracy_score(y_predict,y_test.values))\n",
    "    test_acc.append(accuracy_score(y_predict,y_test.values))\n",
    "np.mean(test_acc)"
   ]
  },
  {
   "cell_type": "markdown",
   "id": "fc5e61de",
   "metadata": {},
   "source": [
    "#### PCA by map"
   ]
  },
  {
   "cell_type": "code",
   "execution_count": null,
   "id": "56cda6fb",
   "metadata": {},
   "outputs": [],
   "source": [
    "X =  X_pca\n",
    "t = y_train\n",
    "init_w = np.random.rand(30)\n",
    "iter_time = 50000\n",
    "signal = 0.001\n",
    "epsilon = 0.01\n",
    "alpha = 0.001   #0.001\n",
    "\n",
    "w_map = First_GD_MAP(X, init_w, t, iter_time, epsilon, signal, alpha,method='GD')\n",
    "hessian = variance_for_laplace(X,w_map,alpha)"
   ]
  },
  {
   "cell_type": "code",
   "execution_count": null,
   "id": "82ba1b11",
   "metadata": {},
   "outputs": [],
   "source": [
    "iter_time_ppe = 10000\n",
    "prediction_train = PPE_MC(X,w_map,hessian,iter_time_ppe)\n",
    "print('training accuracy:',accuracy(prediction_train,y_train.values))"
   ]
  },
  {
   "cell_type": "code",
   "execution_count": null,
   "id": "e1cd86de",
   "metadata": {},
   "outputs": [],
   "source": [
    "test_acc=[]\n",
    "for i in range(10):\n",
    "    prediction_test = PPE_MC(X_test,w_map,hessian,iter_time_ppe)\n",
    "    #print('testing accuracy:',accuracy_score(y_predict,y_test.values))\n",
    "    test_acc.append(accuracy_score(prediction_test,y_test.values))\n",
    "np.mean(test_acc)\n"
   ]
  },
  {
   "cell_type": "markdown",
   "id": "948a5e7d",
   "metadata": {},
   "source": [
    "## Assumption2"
   ]
  },
  {
   "cell_type": "markdown",
   "id": "ff6e5a51",
   "metadata": {},
   "source": [
    "## Assumption3"
   ]
  },
  {
   "cell_type": "code",
   "execution_count": null,
   "id": "b5e2cca7",
   "metadata": {},
   "outputs": [],
   "source": []
  }
 ],
 "metadata": {
  "kernelspec": {
   "display_name": "Python 3 (ipykernel)",
   "language": "python",
   "name": "python3"
  },
  "language_info": {
   "codemirror_mode": {
    "name": "ipython",
    "version": 3
   },
   "file_extension": ".py",
   "mimetype": "text/x-python",
   "name": "python",
   "nbconvert_exporter": "python",
   "pygments_lexer": "ipython3",
   "version": "3.8.5"
  }
 },
 "nbformat": 4,
 "nbformat_minor": 5
}
